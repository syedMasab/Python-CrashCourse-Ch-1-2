{
 "cells": [
  {
   "cell_type": "code",
   "execution_count": 1,
   "id": "8fac9d1f",
   "metadata": {},
   "outputs": [
    {
     "name": "stdout",
     "output_type": "stream",
     "text": [
      "Hello World\n"
     ]
    }
   ],
   "source": [
    "print(\"Hello World\")"
   ]
  },
  {
   "cell_type": "code",
   "execution_count": 3,
   "id": "ea49171c",
   "metadata": {},
   "outputs": [
    {
     "name": "stdout",
     "output_type": "stream",
     "text": [
      "Hello world!\n"
     ]
    }
   ],
   "source": [
    "message= \"Hello world!\"\n",
    "print(message)"
   ]
  },
  {
   "cell_type": "code",
   "execution_count": 4,
   "id": "11610fd4",
   "metadata": {},
   "outputs": [
    {
     "name": "stdout",
     "output_type": "stream",
     "text": [
      "Hello python crash course reader\n"
     ]
    }
   ],
   "source": [
    "message = \"Hello python crash course reader\"\n",
    "print (message)"
   ]
  },
  {
   "cell_type": "code",
   "execution_count": 5,
   "id": "7a6790f0",
   "metadata": {},
   "outputs": [
    {
     "name": "stdout",
     "output_type": "stream",
     "text": [
      "storing a variable\n",
      "updating stored variable\n"
     ]
    }
   ],
   "source": [
    "#try yourself\n",
    "variable= \"storing a variable\"\n",
    "print(variable)\n",
    "variable= \"updating stored variable\"\n",
    "print (variable)"
   ]
  },
  {
   "cell_type": "code",
   "execution_count": 8,
   "id": "59ddd610",
   "metadata": {},
   "outputs": [
    {
     "name": "stdout",
     "output_type": "stream",
     "text": [
      "Masab Ahmed\n"
     ]
    }
   ],
   "source": [
    "name=\"masab Ahmed\"\n",
    "print(name.title())"
   ]
  },
  {
   "cell_type": "code",
   "execution_count": 9,
   "id": "7fe67c60",
   "metadata": {},
   "outputs": [
    {
     "name": "stdout",
     "output_type": "stream",
     "text": [
      "MASAB AHMED\n",
      "masab ahmed\n"
     ]
    }
   ],
   "source": [
    "print(name.upper())\n",
    "print(name.lower())"
   ]
  },
  {
   "cell_type": "code",
   "execution_count": 16,
   "id": "f524b97f",
   "metadata": {},
   "outputs": [
    {
     "name": "stdout",
     "output_type": "stream",
     "text": [
      "Masab Ahmed\n"
     ]
    }
   ],
   "source": [
    "first_name= \"Masab\"\n",
    "last_name=\"Ahmed\"\n",
    "full_name= first_name+\" \"+ last_name\n",
    "print(full_name)"
   ]
  },
  {
   "cell_type": "code",
   "execution_count": 20,
   "id": "4b4088a9",
   "metadata": {},
   "outputs": [
    {
     "name": "stdout",
     "output_type": "stream",
     "text": [
      "hello, Masab Ahmed!\n"
     ]
    }
   ],
   "source": [
    "print(\"hello, \"+ (full_name.title()+ \"!\"))"
   ]
  },
  {
   "cell_type": "code",
   "execution_count": 24,
   "id": "0b77c103",
   "metadata": {},
   "outputs": [
    {
     "name": "stdout",
     "output_type": "stream",
     "text": [
      "python\n",
      "\tpython\n"
     ]
    }
   ],
   "source": [
    "print(\"python\")\n",
    "print(\"\\tpython\")"
   ]
  },
  {
   "cell_type": "code",
   "execution_count": 25,
   "id": "2c3a0aa7",
   "metadata": {},
   "outputs": [
    {
     "name": "stdout",
     "output_type": "stream",
     "text": [
      "Languages:\n",
      " pyhton\n",
      " c++\n",
      " \n"
     ]
    }
   ],
   "source": [
    "print(\"Languages:\\n pyhton\\n c++ \")"
   ]
  },
  {
   "cell_type": "code",
   "execution_count": 27,
   "id": "8d67f786",
   "metadata": {},
   "outputs": [
    {
     "name": "stdout",
     "output_type": "stream",
     "text": [
      "Languages:\n",
      "\t pyhton\n",
      "\t c++ \n"
     ]
    }
   ],
   "source": [
    "print(\"Languages:\\n\\t pyhton\\n\\t c++ \")"
   ]
  },
  {
   "cell_type": "code",
   "execution_count": 30,
   "id": "e4214fb7",
   "metadata": {},
   "outputs": [
    {
     "data": {
      "text/plain": [
       "' Python '"
      ]
     },
     "execution_count": 30,
     "metadata": {},
     "output_type": "execute_result"
    }
   ],
   "source": [
    "best_language=\" Python \"\n",
    "best_language\n"
   ]
  },
  {
   "cell_type": "code",
   "execution_count": 31,
   "id": "347be6f6",
   "metadata": {},
   "outputs": [
    {
     "data": {
      "text/plain": [
       "'Python'"
      ]
     },
     "execution_count": 31,
     "metadata": {},
     "output_type": "execute_result"
    }
   ],
   "source": [
    "best_language.strip()"
   ]
  },
  {
   "cell_type": "code",
   "execution_count": 32,
   "id": "f4477226",
   "metadata": {},
   "outputs": [
    {
     "data": {
      "text/plain": [
       "' Python '"
      ]
     },
     "execution_count": 32,
     "metadata": {},
     "output_type": "execute_result"
    }
   ],
   "source": [
    "best_language"
   ]
  },
  {
   "cell_type": "code",
   "execution_count": 33,
   "id": "fc43470b",
   "metadata": {},
   "outputs": [
    {
     "data": {
      "text/plain": [
       "' Python'"
      ]
     },
     "execution_count": 33,
     "metadata": {},
     "output_type": "execute_result"
    }
   ],
   "source": [
    "best_language.rstrip()"
   ]
  },
  {
   "cell_type": "code",
   "execution_count": 34,
   "id": "6ce536b3",
   "metadata": {},
   "outputs": [
    {
     "data": {
      "text/plain": [
       "'Python '"
      ]
     },
     "execution_count": 34,
     "metadata": {},
     "output_type": "execute_result"
    }
   ],
   "source": [
    "best_language.lstrip()"
   ]
  },
  {
   "cell_type": "code",
   "execution_count": 35,
   "id": "c3a43734",
   "metadata": {},
   "outputs": [
    {
     "ename": "SyntaxError",
     "evalue": "invalid syntax (Temp/ipykernel_3432/4258414628.py, line 1)",
     "output_type": "error",
     "traceback": [
      "\u001b[1;36m  File \u001b[1;32m\"C:\\Users\\syedm\\AppData\\Local\\Temp/ipykernel_3432/4258414628.py\"\u001b[1;36m, line \u001b[1;32m1\u001b[0m\n\u001b[1;33m    message = 'One of Python's strengths is its diverse community.'\u001b[0m\n\u001b[1;37m                             ^\u001b[0m\n\u001b[1;31mSyntaxError\u001b[0m\u001b[1;31m:\u001b[0m invalid syntax\n"
     ]
    }
   ],
   "source": [
    "message = 'One of Python's strengths is its diverse community.'\n"
   ]
  },
  {
   "cell_type": "code",
   "execution_count": 37,
   "id": "7ca2e308",
   "metadata": {},
   "outputs": [
    {
     "name": "stdout",
     "output_type": "stream",
     "text": [
      "One of Python's strengths is its diverse community.\n"
     ]
    }
   ],
   "source": [
    "message = \"One of Python's strengths is its diverse community.\"\n",
    "print (message)"
   ]
  },
  {
   "cell_type": "code",
   "execution_count": 39,
   "id": "ad35c27c",
   "metadata": {},
   "outputs": [
    {
     "name": "stdout",
     "output_type": "stream",
     "text": [
      "Ahmed\n",
      "AHMED\n",
      "ahmed\n",
      "Hello, Ahmed Are you ready to build repository\n"
     ]
    }
   ],
   "source": [
    "#try yourself\n",
    "name=\"Ahmed\"\n",
    "message=\"Are you ready to build repository\"\n",
    "print(name.title())\n",
    "print(name.upper())\n",
    "print(name.lower())\n",
    "print (\"Hello, \"+ name+\" \"+ message )"
   ]
  },
  {
   "cell_type": "code",
   "execution_count": 40,
   "id": "397d3c36",
   "metadata": {},
   "outputs": [
    {
     "name": "stdout",
     "output_type": "stream",
     "text": [
      "LinkedIn once wrote: \"Make mistakes to learn\"\n"
     ]
    }
   ],
   "source": [
    "print('LinkedIn once wrote: \"Make mistakes to learn\"')"
   ]
  },
  {
   "cell_type": "code",
   "execution_count": 44,
   "id": "19aacc63",
   "metadata": {},
   "outputs": [
    {
     "name": "stdout",
     "output_type": "stream",
     "text": [
      "linkedIn once wrote: Make mistakes to learn\n"
     ]
    }
   ],
   "source": [
    "#try yourself\n",
    "famous_personname=\"linkedIn\"\n",
    "message = famous_personname+' once wrote: '+\"Make mistakes to learn\"\n",
    "print (message)"
   ]
  },
  {
   "cell_type": "code",
   "execution_count": 48,
   "id": "afd01bf8",
   "metadata": {},
   "outputs": [
    {
     "name": "stdout",
     "output_type": "stream",
     "text": [
      "\tsyed\n",
      " Masab\n",
      " \tAhmed\n",
      "\n",
      "syed\n",
      " Masab\n",
      " \tAhmed\n",
      "syed\n",
      " Masab\n",
      " \tAhmed\n",
      "\n",
      "\tsyed\n",
      " Masab\n",
      " \tAhmed\n"
     ]
    }
   ],
   "source": [
    "#try yourself\n",
    "name = (\"\\tsyed\\n Masab\\n \\tAhmed\\n\")\n",
    "print(name)\n",
    "print (name.strip())\n",
    "print(name.lstrip())\n",
    "print(name.rstrip())"
   ]
  },
  {
   "cell_type": "code",
   "execution_count": 53,
   "id": "b2b204d9",
   "metadata": {},
   "outputs": [
    {
     "name": "stdout",
     "output_type": "stream",
     "text": [
      "happy 24th birthday to you :-)\n"
     ]
    }
   ],
   "source": [
    "age=24\n",
    "message= \"happy \"+str(age)+\"th birthday to you :-)\"\n",
    "print (message)"
   ]
  },
  {
   "cell_type": "code",
   "execution_count": 57,
   "id": "84052ad6",
   "metadata": {},
   "outputs": [
    {
     "name": "stdout",
     "output_type": "stream",
     "text": [
      "8\n",
      "8\n",
      "8.0\n",
      "8\n"
     ]
    }
   ],
   "source": [
    "#try yourself\n",
    "#2.8\n",
    "print(5+4-1)\n",
    "print(4*2)\n",
    "print(80/10)\n",
    "print(10-2)"
   ]
  },
  {
   "cell_type": "code",
   "execution_count": 59,
   "id": "a23ec031",
   "metadata": {},
   "outputs": [
    {
     "name": "stdout",
     "output_type": "stream",
     "text": [
      "my favorate number is 10\n"
     ]
    }
   ],
   "source": [
    "#try yourself\n",
    "#2.9\n",
    "number=10\n",
    "message = \"my favorate number is \"+str(number)\n",
    "print (message)"
   ]
  },
  {
   "cell_type": "code",
   "execution_count": 61,
   "id": "1f4b9978",
   "metadata": {},
   "outputs": [
    {
     "name": "stdout",
     "output_type": "stream",
     "text": [
      "10\n"
     ]
    }
   ],
   "source": [
    "#Written by masaab dated 24June\n",
    "#try yourself\n",
    "#2.10\n",
    "print(0+10)"
   ]
  },
  {
   "cell_type": "code",
   "execution_count": null,
   "id": "636f599b",
   "metadata": {},
   "outputs": [],
   "source": []
  }
 ],
 "metadata": {
  "kernelspec": {
   "display_name": "Python 3 (ipykernel)",
   "language": "python",
   "name": "python3"
  },
  "language_info": {
   "codemirror_mode": {
    "name": "ipython",
    "version": 3
   },
   "file_extension": ".py",
   "mimetype": "text/x-python",
   "name": "python",
   "nbconvert_exporter": "python",
   "pygments_lexer": "ipython3",
   "version": "3.9.7"
  }
 },
 "nbformat": 4,
 "nbformat_minor": 5
}
